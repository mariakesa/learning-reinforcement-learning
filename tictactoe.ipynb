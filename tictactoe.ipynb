{
 "cells": [
  {
   "cell_type": "markdown",
   "metadata": {},
   "source": [
    "https://towardsdatascience.com/reinforcement-learning-implement-tictactoe-189582bea542"
   ]
  },
  {
   "cell_type": "code",
   "execution_count": 17,
   "metadata": {},
   "outputs": [],
   "source": [
    "import numpy as np"
   ]
  },
  {
   "cell_type": "code",
   "execution_count": 35,
   "metadata": {},
   "outputs": [],
   "source": [
    "class TicTacToe():\n",
    "    def __init__(self,board_size):\n",
    "        self.board_size=board_size\n",
    "        self.board=np.zeros((self.board_size,self.board_size))\n",
    "        self.winning_condition=False\n",
    "        \n",
    "        \n",
    "    def new_board_dict(self):\n",
    "        self.visited_dict={}\n",
    "        for j in range(0,self.board_size):\n",
    "            for i in range(0,self.board_size):\n",
    "                self.visited_dict[(j,i)]=False\n",
    "                \n",
    "    def row_win_check(self,player):\n",
    "        if player=='player1':\n",
    "            for ind in range(0,self.board_size):\n",
    "                if np.all(self.board[ind,:]==1):\n",
    "                    self.winning_condition=True\n",
    "                    self.winner='player1'\n",
    "                    \n",
    "        if player=='player2':\n",
    "            for ind in range(0,self.board_size):\n",
    "                if np.all(self.board[ind,:]==2):\n",
    "                    self.winning_condition=True\n",
    "                    self.winner='player2'\n",
    "                    \n",
    "    def column_win_check(self,player):\n",
    "        if player=='player1':\n",
    "            for ind in range(0,self.board_size):\n",
    "                if np.all(self.board[:,ind]==1):\n",
    "                    self.winning_condition=True\n",
    "                    self.winner='player1'\n",
    "                    \n",
    "        if player=='player2':\n",
    "            for ind in range(0,self.board_size):\n",
    "                if np.all(self.board[:,ind]==2):\n",
    "                    self.winning_condition=True\n",
    "                    self.winner='player2'\n",
    "                    \n",
    "    def diag_win_check(self,player):\n",
    "        diag_lst=[]\n",
    "        if player=='player1':\n",
    "            for ind in range(self.board_size):\n",
    "                diag_lst.append(self.board[ind,ind])\n",
    "            if np.all(diag_lst==1):\n",
    "                self.winning_condition=True\n",
    "                self.winner='player1'\n",
    "        diag_lst=[]\n",
    "        if player=='player2':\n",
    "            for ind in range(self.board_size):\n",
    "                diag_lst.append(self.board[ind,ind])\n",
    "            if np.all(diag_lst==2):\n",
    "                self.winning_condition=True\n",
    "                self.winner='player2'\n",
    "                \n",
    "    \n",
    "    def check_winning_condition(self,player):\n",
    "        if player=='player1':\n",
    "            self.row_win_check('player1')\n",
    "            self.column_win_check('player1')\n",
    "            self.diag_win_check('player1')\n",
    "        if player=='player2':\n",
    "            self.row_win_check('player2')\n",
    "            self.column_win_check('player2')\n",
    "            self.diag_win_check('player2')\n",
    "    \n",
    "    \n",
    "    def random_policy(self):\n",
    "        not_marked_lst=[v for (k,v) in self.visited_dict.items() if v==False]\n",
    "        \n",
    "        random_action=not_marked_lst[np.random.randint(0,len(not_marked_lst),1)[0]]\n",
    "        print(random_action)\n",
    "        return random_action\n",
    "    \n",
    "    def update_board(self,action,player):\n",
    "        if player=='player1':\n",
    "            self.board[action[0],action[1]]=1\n",
    "        elif player=='player2':\n",
    "            self.board[action[0],action[1]]=2\n",
    "        \n",
    "    def one_game(self):\n",
    "        self.board=np.zeros((self.board_size,self.board_size))\n",
    "        self.new_board_dict()\n",
    "        while self.winning_condition!=True:\n",
    "            player1_action=self.random_policy()\n",
    "            self.visited_dict[player1_action]=True\n",
    "            self.update_board(player1_action,'player1')\n",
    "            self.check_winning_condition('player1')\n",
    "            if self.winning_condition==True:\n",
    "                print('Player1 won!')\n",
    "                return 1\n",
    "            player2_action=self.random_policy()\n",
    "            self.visited_dict[player2_action]=True \n",
    "            self.update_board(player2_action,'player2')\n",
    "            self.check_winning_condition('player2')\n",
    "            if self.winning_condition==True:\n",
    "                print('Player2 won!')\n",
    "                return 2\n",
    "            \n",
    "        "
   ]
  },
  {
   "cell_type": "code",
   "execution_count": 36,
   "metadata": {},
   "outputs": [
    {
     "name": "stdout",
     "output_type": "stream",
     "text": [
      "False\n"
     ]
    },
    {
     "ename": "TypeError",
     "evalue": "'bool' object is not subscriptable",
     "output_type": "error",
     "traceback": [
      "\u001b[0;31m---------------------------------------------------------------------------\u001b[0m",
      "\u001b[0;31mTypeError\u001b[0m                                 Traceback (most recent call last)",
      "\u001b[0;32m<ipython-input-36-057e415f48d1>\u001b[0m in \u001b[0;36m<module>\u001b[0;34m\u001b[0m\n\u001b[1;32m      1\u001b[0m \u001b[0mtic_tac_toe\u001b[0m\u001b[0;34m=\u001b[0m\u001b[0mTicTacToe\u001b[0m\u001b[0;34m(\u001b[0m\u001b[0;36m3\u001b[0m\u001b[0;34m)\u001b[0m\u001b[0;34m\u001b[0m\u001b[0;34m\u001b[0m\u001b[0m\n\u001b[0;32m----> 2\u001b[0;31m \u001b[0mtic_tac_toe\u001b[0m\u001b[0;34m.\u001b[0m\u001b[0mone_game\u001b[0m\u001b[0;34m(\u001b[0m\u001b[0;34m)\u001b[0m\u001b[0;34m\u001b[0m\u001b[0;34m\u001b[0m\u001b[0m\n\u001b[0m",
      "\u001b[0;32m<ipython-input-35-54bb0c39a2d9>\u001b[0m in \u001b[0;36mone_game\u001b[0;34m(self)\u001b[0m\n\u001b[1;32m     85\u001b[0m             \u001b[0mplayer1_action\u001b[0m\u001b[0;34m=\u001b[0m\u001b[0mself\u001b[0m\u001b[0;34m.\u001b[0m\u001b[0mrandom_policy\u001b[0m\u001b[0;34m(\u001b[0m\u001b[0;34m)\u001b[0m\u001b[0;34m\u001b[0m\u001b[0;34m\u001b[0m\u001b[0m\n\u001b[1;32m     86\u001b[0m             \u001b[0mself\u001b[0m\u001b[0;34m.\u001b[0m\u001b[0mvisited_dict\u001b[0m\u001b[0;34m[\u001b[0m\u001b[0mplayer1_action\u001b[0m\u001b[0;34m]\u001b[0m\u001b[0;34m=\u001b[0m\u001b[0;32mTrue\u001b[0m\u001b[0;34m\u001b[0m\u001b[0;34m\u001b[0m\u001b[0m\n\u001b[0;32m---> 87\u001b[0;31m             \u001b[0mself\u001b[0m\u001b[0;34m.\u001b[0m\u001b[0mupdate_board\u001b[0m\u001b[0;34m(\u001b[0m\u001b[0mplayer1_action\u001b[0m\u001b[0;34m,\u001b[0m\u001b[0;34m'player1'\u001b[0m\u001b[0;34m)\u001b[0m\u001b[0;34m\u001b[0m\u001b[0;34m\u001b[0m\u001b[0m\n\u001b[0m\u001b[1;32m     88\u001b[0m             \u001b[0mself\u001b[0m\u001b[0;34m.\u001b[0m\u001b[0mcheck_winning_condition\u001b[0m\u001b[0;34m(\u001b[0m\u001b[0;34m'player1'\u001b[0m\u001b[0;34m)\u001b[0m\u001b[0;34m\u001b[0m\u001b[0;34m\u001b[0m\u001b[0m\n\u001b[1;32m     89\u001b[0m             \u001b[0;32mif\u001b[0m \u001b[0mself\u001b[0m\u001b[0;34m.\u001b[0m\u001b[0mwinning_condition\u001b[0m\u001b[0;34m==\u001b[0m\u001b[0;32mTrue\u001b[0m\u001b[0;34m:\u001b[0m\u001b[0;34m\u001b[0m\u001b[0;34m\u001b[0m\u001b[0m\n",
      "\u001b[0;32m<ipython-input-35-54bb0c39a2d9>\u001b[0m in \u001b[0;36mupdate_board\u001b[0;34m(self, action, player)\u001b[0m\n\u001b[1;32m     75\u001b[0m     \u001b[0;32mdef\u001b[0m \u001b[0mupdate_board\u001b[0m\u001b[0;34m(\u001b[0m\u001b[0mself\u001b[0m\u001b[0;34m,\u001b[0m\u001b[0maction\u001b[0m\u001b[0;34m,\u001b[0m\u001b[0mplayer\u001b[0m\u001b[0;34m)\u001b[0m\u001b[0;34m:\u001b[0m\u001b[0;34m\u001b[0m\u001b[0;34m\u001b[0m\u001b[0m\n\u001b[1;32m     76\u001b[0m         \u001b[0;32mif\u001b[0m \u001b[0mplayer\u001b[0m\u001b[0;34m==\u001b[0m\u001b[0;34m'player1'\u001b[0m\u001b[0;34m:\u001b[0m\u001b[0;34m\u001b[0m\u001b[0;34m\u001b[0m\u001b[0m\n\u001b[0;32m---> 77\u001b[0;31m             \u001b[0mself\u001b[0m\u001b[0;34m.\u001b[0m\u001b[0mboard\u001b[0m\u001b[0;34m[\u001b[0m\u001b[0maction\u001b[0m\u001b[0;34m[\u001b[0m\u001b[0;36m0\u001b[0m\u001b[0;34m]\u001b[0m\u001b[0;34m,\u001b[0m\u001b[0maction\u001b[0m\u001b[0;34m[\u001b[0m\u001b[0;36m1\u001b[0m\u001b[0;34m]\u001b[0m\u001b[0;34m]\u001b[0m\u001b[0;34m=\u001b[0m\u001b[0;36m1\u001b[0m\u001b[0;34m\u001b[0m\u001b[0;34m\u001b[0m\u001b[0m\n\u001b[0m\u001b[1;32m     78\u001b[0m         \u001b[0;32melif\u001b[0m \u001b[0mplayer\u001b[0m\u001b[0;34m==\u001b[0m\u001b[0;34m'player2'\u001b[0m\u001b[0;34m:\u001b[0m\u001b[0;34m\u001b[0m\u001b[0;34m\u001b[0m\u001b[0m\n\u001b[1;32m     79\u001b[0m             \u001b[0mself\u001b[0m\u001b[0;34m.\u001b[0m\u001b[0mboard\u001b[0m\u001b[0;34m[\u001b[0m\u001b[0maction\u001b[0m\u001b[0;34m[\u001b[0m\u001b[0;36m0\u001b[0m\u001b[0;34m]\u001b[0m\u001b[0;34m,\u001b[0m\u001b[0maction\u001b[0m\u001b[0;34m[\u001b[0m\u001b[0;36m1\u001b[0m\u001b[0;34m]\u001b[0m\u001b[0;34m]\u001b[0m\u001b[0;34m=\u001b[0m\u001b[0;36m2\u001b[0m\u001b[0;34m\u001b[0m\u001b[0;34m\u001b[0m\u001b[0m\n",
      "\u001b[0;31mTypeError\u001b[0m: 'bool' object is not subscriptable"
     ]
    }
   ],
   "source": [
    "tic_tac_toe=TicTacToe(3)\n",
    "tic_tac_toe.one_game()"
   ]
  }
 ],
 "metadata": {
  "kernelspec": {
   "display_name": "Python 3",
   "language": "python",
   "name": "python3"
  },
  "language_info": {
   "codemirror_mode": {
    "name": "ipython",
    "version": 3
   },
   "file_extension": ".py",
   "mimetype": "text/x-python",
   "name": "python",
   "nbconvert_exporter": "python",
   "pygments_lexer": "ipython3",
   "version": "3.7.4"
  }
 },
 "nbformat": 4,
 "nbformat_minor": 2
}
