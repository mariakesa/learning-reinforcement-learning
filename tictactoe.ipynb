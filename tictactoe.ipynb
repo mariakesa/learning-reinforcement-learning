{
 "cells": [
  {
   "cell_type": "markdown",
   "metadata": {},
   "source": [
    "https://towardsdatascience.com/reinforcement-learning-implement-tictactoe-189582bea542"
   ]
  },
  {
   "cell_type": "code",
   "execution_count": 17,
   "metadata": {},
   "outputs": [],
   "source": [
    "import numpy as np"
   ]
  },
  {
   "cell_type": "code",
   "execution_count": 109,
   "metadata": {},
   "outputs": [],
   "source": [
    "class TicTacToe():\n",
    "    def __init__(self,board_size):\n",
    "        self.board_size=board_size\n",
    "        self.board=np.zeros((self.board_size,self.board_size))\n",
    "        self.winning_condition=False\n",
    "        \n",
    "        \n",
    "    def new_board_dict(self):\n",
    "        self.visited_dict={}\n",
    "        for j in range(0,self.board_size):\n",
    "            for i in range(0,self.board_size):\n",
    "                self.visited_dict[(j,i)]=False\n",
    "                \n",
    "    def row_win_check(self,player):\n",
    "        if player=='player1':\n",
    "            for ind in range(0,self.board_size):\n",
    "                if np.all(self.board[ind,:]==1):\n",
    "                    self.winning_condition=True\n",
    "                    self.winner='player1'\n",
    "                    \n",
    "        if player=='player2':\n",
    "            for ind in range(0,self.board_size):\n",
    "                if np.all(self.board[ind,:]==2):\n",
    "                    self.winning_condition=True\n",
    "                    self.winner='player2'\n",
    "                    \n",
    "    def column_win_check(self,player):\n",
    "        if player=='player1':\n",
    "            for ind in range(0,self.board_size):\n",
    "                if np.all(self.board[:,ind]==1):\n",
    "                    self.winning_condition=True\n",
    "                    self.winner='player1'\n",
    "                    \n",
    "        if player=='player2':\n",
    "            for ind in range(0,self.board_size):\n",
    "                if np.all(self.board[:,ind]==2):\n",
    "                    self.winning_condition=True\n",
    "                    self.winner='player2'\n",
    "                    \n",
    "    def diag_win_check(self,player):\n",
    "        diag_lst=[]\n",
    "        if player=='player1':\n",
    "            for ind in range(self.board_size):\n",
    "                diag_lst.append(self.board[ind,ind])\n",
    "            if np.all(diag_lst==1):\n",
    "                self.winning_condition=True\n",
    "                self.winner='player1'\n",
    "        diag_lst=[]\n",
    "        if player=='player2':\n",
    "            for ind in range(self.board_size):\n",
    "                diag_lst.append(self.board[ind,ind])\n",
    "            if np.all(diag_lst==2):\n",
    "                self.winning_condition=True\n",
    "                self.winner='player2'\n",
    "                \n",
    "    \n",
    "    def check_winning_condition(self,player):\n",
    "        if player=='player1':\n",
    "            self.row_win_check('player1')\n",
    "            self.column_win_check('player1')\n",
    "            self.diag_win_check('player1')\n",
    "        if player=='player2':\n",
    "            self.row_win_check('player2')\n",
    "            self.column_win_check('player2')\n",
    "            self.diag_win_check('player2')\n",
    "    \n",
    "    \n",
    "    def random_policy(self):\n",
    "        not_marked_lst=[k for (k,v) in self.visited_dict.items() if v==False]\n",
    "        if len(not_marked_lst)==1:\n",
    "            return not_marked_lst[0]\n",
    "        elif len(not_marked_lst)==0:\n",
    "            self.winning_condition=True\n",
    "            random_action=0\n",
    "            return random_action\n",
    "        random_action=not_marked_lst[np.random.randint(0,len(not_marked_lst),1)[0]]\n",
    "        return random_action\n",
    "\n",
    "    \n",
    "    def update_board(self,action,player):\n",
    "        if player=='player1':\n",
    "            self.board[action[0],action[1]]=1\n",
    "        elif player=='player2':\n",
    "            self.board[action[0],action[1]]=2\n",
    "        \n",
    "    def one_game(self):\n",
    "        self.board=np.zeros((self.board_size,self.board_size))\n",
    "        self.new_board_dict()\n",
    "        while self.winning_condition!=True:\n",
    "            player1_action=self.random_policy()\n",
    "            self.visited_dict[player1_action]=True\n",
    "            self.update_board(player1_action,'player1')\n",
    "            self.check_winning_condition('player1')\n",
    "            if self.winning_condition==True:\n",
    "                print('Player1 won!')\n",
    "                print(self.board)\n",
    "                return 1\n",
    "            player2_action=self.random_policy()\n",
    "            if player2_action!=0:\n",
    "                self.visited_dict[player2_action]=True \n",
    "                self.update_board(player2_action,'player2')\n",
    "                self.check_winning_condition('player2')\n",
    "                if self.winning_condition==True:\n",
    "                    print('Player2 won!')\n",
    "                    print(self.board)\n",
    "                    return 2\n",
    "            if np.all(self.board!=0):\n",
    "                self.winning_condition=True\n",
    "                print('It was a tie!')\n",
    "                print(self.board)\n",
    "                return 3\n",
    "        #3 means tie\n",
    "            \n",
    "        "
   ]
  },
  {
   "cell_type": "code",
   "execution_count": 110,
   "metadata": {},
   "outputs": [
    {
     "name": "stdout",
     "output_type": "stream",
     "text": [
      "It was a tie!\n",
      "[[1. 2. 2.]\n",
      " [2. 1. 1.]\n",
      " [2. 1. 1.]]\n"
     ]
    },
    {
     "data": {
      "text/plain": [
       "3"
      ]
     },
     "execution_count": 110,
     "metadata": {},
     "output_type": "execute_result"
    }
   ],
   "source": [
    "tic_tac_toe=TicTacToe(3)\n",
    "tic_tac_toe.one_game()"
   ]
  }
 ],
 "metadata": {
  "kernelspec": {
   "display_name": "Python 3",
   "language": "python",
   "name": "python3"
  },
  "language_info": {
   "codemirror_mode": {
    "name": "ipython",
    "version": 3
   },
   "file_extension": ".py",
   "mimetype": "text/x-python",
   "name": "python",
   "nbconvert_exporter": "python",
   "pygments_lexer": "ipython3",
   "version": "3.7.4"
  }
 },
 "nbformat": 4,
 "nbformat_minor": 2
}
